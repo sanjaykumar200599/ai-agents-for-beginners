{
 "cells": [
  {
   "cell_type": "markdown",
   "metadata": {},
   "source": [
    "# AutoGen Basic Sample \n",
    "\n",
    "In this code sample, you will use the [AutoGen](https://aka.ms/ai-agents/autogen) AI Framework to create a basic agent. \n",
    "\n",
    "The goal of this sample is to show you the steps that we will later use in the additional code samples when implementing the different agentic patterns. "
   ]
  },
  {
   "cell_type": "markdown",
   "metadata": {},
   "source": [
    "## Import the Needed Python Packages "
   ]
  },
  {
   "cell_type": "code",
   "execution_count": 1,
   "metadata": {},
   "outputs": [],
   "source": [
    "import os\n",
    "from dotenv import load_dotenv\n",
    "\n",
    "from autogen_agentchat.agents import AssistantAgent\n",
    "from autogen_core.models import UserMessage\n",
    "from autogen_ext.models.azure import AzureAIChatCompletionClient\n",
    "from azure.core.credentials import AzureKeyCredential\n",
    "from autogen_core import CancellationToken\n",
    "\n",
    "from autogen_agentchat.messages import TextMessage\n",
    "from autogen_agentchat.ui import Console\n"
   ]
  },
  {
   "cell_type": "markdown",
   "metadata": {},
   "source": [
    "## Create the Client \n",
    "\n",
    "In this sample, we will use [GitHub Models](https://aka.ms/ai-agents-beginners/github-models) for access to the LLM. \n",
    "\n",
    "The `model` is defined as `gpt-4o-mini`. Try changing the model to another model available on the GitHub Models marketplace to see the different results. \n",
    "\n",
    "As a quick test, we will just run a simple prompt - `What is the capital of France`. "
   ]
  },
  {
   "cell_type": "code",
   "execution_count": 2,
   "metadata": {},
   "outputs": [
    {
     "name": "stderr",
     "output_type": "stream",
     "text": [
      "/home/vscode/.local/lib/python3.13/site-packages/autogen_ext/models/azure/_azure_ai_client.py:307: UserWarning: Missing required field 'structured_output' in ModelInfo. This field will be required in a future version of AutoGen.\n",
      "  validate_model_info(config[\"model_info\"])\n"
     ]
    },
    {
     "name": "stdout",
     "output_type": "stream",
     "text": [
      "finish_reason='stop' content='The capital of France is Paris.' usage=RequestUsage(prompt_tokens=14, completion_tokens=8) cached=False logprobs=None thought=None\n"
     ]
    }
   ],
   "source": [
    "load_dotenv()\n",
    "client = AzureAIChatCompletionClient(\n",
    "    model=\"gpt-4o-mini\",\n",
    "    endpoint=\"https://models.inference.ai.azure.com\",\n",
    "    # To authenticate with the model you will need to generate a personal access token (PAT) in your GitHub settings.\n",
    "    # Create your PAT token by following instructions here: https://docs.github.com/en/authentication/keeping-your-account-and-data-secure/managing-your-personal-access-tokens\n",
    "    credential=AzureKeyCredential(os.getenv(\"GITHUB_TOKEN\")),\n",
    "    model_info={\n",
    "        \"json_output\": True,\n",
    "        \"function_calling\": True,\n",
    "        \"vision\": True,\n",
    "        \"family\": \"unknown\",\n",
    "    },\n",
    ")\n",
    "\n",
    "result = await client.create([UserMessage(content=\"What is the capital of France?\", source=\"user\")])\n",
    "print(result)"
   ]
  },
  {
   "cell_type": "markdown",
   "metadata": {},
   "source": [
    "## Defining the Agent \n",
    "\n",
    "Now that we have set up the `client` and confirmed that it is working, let us create an `AssistantAgent`. Each agent can be assigned a: \n",
    "**name** - A short hand name that will be useful in referencing it in multi-agent flows. \n",
    "**model_client** - The client that you created in the earlier step. \n",
    "**tools** - Available tools that the Agent can use to complete a task.\n",
    "**system_message** - The metaprompt that defines the task, behavior and tone of the LLM. \n",
    "\n",
    "You can change the system message to see how the LLM responds. We will cover `tools` in Lesson #4. \n"
   ]
  },
  {
   "cell_type": "code",
   "execution_count": 3,
   "metadata": {},
   "outputs": [],
   "source": [
    "agent = AssistantAgent(\n",
    "    name=\"assistant\",\n",
    "    model_client=client,\n",
    "    tools=[],\n",
    "    system_message=\"You are a travel agent that plans great vacations\",\n",
    ")"
   ]
  },
  {
   "cell_type": "markdown",
   "metadata": {},
   "source": [
    "## Run the Agent \n",
    "\n",
    "The below function will run the agent. We use the the `on_message` method to update the Agent's state with the new message. \n",
    "\n",
    "In this case, we update the state with a new message from the user which is `\"Plan me a great sunny vacation\"`.\n",
    "\n",
    "You can change the message content to see how the LLM responds differently. "
   ]
  },
  {
   "cell_type": "code",
   "execution_count": 4,
   "metadata": {},
   "outputs": [
    {
     "data": {
      "text/html": [
       "<div style='margin-bottom:10px'><div style='font-weight:bold'>User:</div><div style='margin-left:20px'>Plan me a great sunny vacation</div></div><div style='margin-bottom:20px'><div style='font-weight:bold'>Assistant:</div><div style='margin-left:20px; white-space:pre-wrap'>Certainly! To help you plan a fantastic sunny vacation, here’s a detailed itinerary focusing on relaxation, adventure, and exploration in a beautiful destination known for its sun-drenched weather.\n",
       "\n",
       "### Destination: Maui, Hawaii\n",
       "\n",
       "#### Duration: 7 Days\n",
       "\n",
       "---\n",
       "\n",
       "### **Day 1: Arrival in Maui**\n",
       "- **Accommodation**: Book a beachfront resort in Kaanapali or Wailea. Consider options like the Hyatt Regency Maui or the Four Seasons Resort Maui at Wailea.\n",
       "- **Evening Activity**: Relax after your flight and enjoy a welcome dinner at the resort's oceanfront restaurant. Try some traditional Hawaiian dishes, like poke and kalua pork.\n",
       "\n",
       "### **Day 2: Exploring Lahaina**\n",
       "- **Morning**: Head to Lahaina, a historic town. Explore its art galleries, shops, and the famous Banyan Tree Park.\n",
       "- **Afternoon**: Spend time at Ka’anapali Beach. Go snorkeling at Black Rock or just relax on the sand.\n",
       "- **Evening Activity**: Attend a Luau! Experience traditional Hawaiian music, dance, and cuisine at Old Lahaina Luau or Feast at Lele.\n",
       "\n",
       "### **Day 3: Road to Hana Adventure**\n",
       "- **All-day Trip**: Rent a car and take the scenic Road to Hana. Stops should include:\n",
       "  - Twin Falls\n",
       "  - Wai'anapanapa State Park (black sand beach)\n",
       "  - Seven Sacred Pools at Haleakalā National Park\n",
       "- **Tip**: Pack snacks and water, and be prepared for many photo stops. Enjoy the breathtaking views of waterfalls and coastline.\n",
       "\n",
       "### **Day 4: Haleakalā National Park**\n",
       "- **Morning**: Early rise to watch the sunrise at Haleakalā Crater. Be sure to make a reservation in advance.\n",
       "- **Midday**: Descend and enjoy a leisurely brunch at a local café.\n",
       "- **Afternoon**: Go for a hike in the park or explore the nearby upcountry towns (Makawao and Kula).\n",
       "- **Evening Activity**: Dinner and stargazing—many resorts offer astronomy nights.\n",
       "\n",
       "### **Day 5: Water Sports and Relaxation**\n",
       "- **Morning**: Take a whale-watching tour (depending on the season, typically November to April) or go snorkeling at Molokini Crater.\n",
       "- **Afternoon**: Return to the beach for some relaxation. Consider booking a spa treatment at your resort.\n",
       "- **Evening Activity**: Sunset cruise along the coastline, often featuring dinner and drinks.\n",
       "\n",
       "### **Day 6: Cultural Experience and Shopping**\n",
       "- **Morning**: Visit the Maui Ocean Center to learn about marine life.\n",
       "- **Afternoon**: Go shopping at Whalers Village or in the upscale shops of Wailea. Enjoy a leisurely lunch at a café.\n",
       "- **Evening Activity**: A night out in Kiehei for dinner and live music at a beachside bar.\n",
       "\n",
       "### **Day 7: Departure**\n",
       "- **Morning**: Last swim or stroll on the beach.\n",
       "- **Brunch**: Enjoy a leisurely brunch with an ocean view.\n",
       "- **Afternoon**: Relax at the resort until your departure time. Consider picking up some Hawaiian souvenirs.\n",
       "  \n",
       "---\n",
       "\n",
       "### **Additional Recommendations:**\n",
       "- **Travel Tips**:\n",
       "  - Look for package deals that include flights and accommodations.\n",
       "  - Travel insurance is advisable.\n",
       "  - Rent a car for easy access to various attractions.\n",
       "- **Packing Essentials**:\n",
       "  - Light, breathable clothing\n",
       "  - Sunscreen, sunglasses, hat\n",
       "  - Swimwear and beach towels\n",
       "  - Snorkeling gear (available for rent on the island)\n",
       "\n",
       "### **Conclusion**\n",
       "This Maui itinerary combines relaxation, adventure, and cultural experiences, making for a perfect sunny vacation. Whether you're indulging in local cuisine, soaking up the sun, or exploring breathtaking landscapes, Maui offers the ideal getaway to help you unwind and create lasting memories. Let me know if you’d like any adjustments or if there’s a different destination you have in mind!</div></div>"
      ],
      "text/plain": [
       "<IPython.core.display.HTML object>"
      ]
     },
     "metadata": {},
     "output_type": "display_data"
    }
   ],
   "source": [
    "from IPython.display import display, HTML\n",
    "\n",
    "\n",
    "async def assistant_run():\n",
    "    # Define the query\n",
    "    user_query = \"Plan me a great sunny vacation\"\n",
    "\n",
    "    # Start building HTML output\n",
    "    html_output = \"<div style='margin-bottom:10px'>\"\n",
    "    html_output += \"<div style='font-weight:bold'>User:</div>\"\n",
    "    html_output += f\"<div style='margin-left:20px'>{user_query}</div>\"\n",
    "    html_output += \"</div>\"\n",
    "\n",
    "    # Execute the agent response\n",
    "    response = await agent.on_messages(\n",
    "        [TextMessage(content=user_query, source=\"user\")],\n",
    "        cancellation_token=CancellationToken(),\n",
    "    )\n",
    "\n",
    "    # Add agent response to HTML\n",
    "    html_output += \"<div style='margin-bottom:20px'>\"\n",
    "    html_output += \"<div style='font-weight:bold'>Assistant:</div>\"\n",
    "    html_output += f\"<div style='margin-left:20px; white-space:pre-wrap'>{response.chat_message.content}</div>\"\n",
    "    html_output += \"</div>\"\n",
    "\n",
    "    # Display formatted HTML\n",
    "    display(HTML(html_output))\n",
    "\n",
    "# Run the function\n",
    "await assistant_run()"
   ]
  }
 ],
 "metadata": {
  "kernelspec": {
   "display_name": "Python 3",
   "language": "python",
   "name": "python3"
  },
  "language_info": {
   "codemirror_mode": {
    "name": "ipython",
    "version": 3
   },
   "file_extension": ".py",
   "mimetype": "text/x-python",
   "name": "python",
   "nbconvert_exporter": "python",
   "pygments_lexer": "ipython3",
   "version": "3.13.5"
  }
 },
 "nbformat": 4,
 "nbformat_minor": 2
}
